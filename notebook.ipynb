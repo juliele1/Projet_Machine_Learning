{
 "cells": [
  {
   "cell_type": "markdown",
   "source": [
    "Projet de Machine Learning : expliquer le prix de l'électricité\n",
    "\n",
    "Romain Foucher\n",
    "Matthieu Evort\n",
    "Julie Chen\n",
    "\n",
    "\n",
    "Introduction :\n",
    "\n",
    "Le machine learning est une technologie qui vise à apprendre aux machines à tirer des enseignements des données et à s'améliorer avec l'expérience, au lieu d'être explicitement programmées pour le faire.\n",
    "\n",
    "Ce projet consiste a expliquer le prix de l'électricité en France et en Allemagne selon une multitude de facteurs. On peut citer le climat, le réchauffement climatique, les  événements géopolitiques... De plus, chaque pays s’appuie sur un mix  énergétique qui lui est propre (nucléaire, solaire, hydrolique, gaz, charbon, etc).\n",
    "\n",
    " Pour cela, nous allons utiliser plusieurs méthodes afin de préparer nos données, de les analyser et de les modéliser grâce aux cours et aux TP que nous avons pu effectuer en cours mais ainsi qu'à la documantation d'internet.\n",
    "\n",
    "Sommaire :\n",
    "\n",
    "A) Préparation des données\n",
    "B) Analyse exploratoire des données\n",
    "C) Modélisation des données\n",
    "\n",
    "\n",
    "A) Préparation des données\n",
    "\n",
    "Afin de préparer nos données nous allons remplir les cases vides par la moyenne de la colonne. En effet, si nous supprimons les lignes ou les colonnes, nous perdrons des informations et nous réduisons la taille de l'échantillon. Cependant, nous n'allons pas supprimer ou remplacer les données \"0.0\" car elles sont utiles. En effet, il est possible que la variation du prix du charbon ou du gaz d'un pays ne change pas d'une journée à l'autre."
   ],
   "metadata": {
    "collapsed": false
   }
  },
  {
   "cell_type": "code",
   "execution_count": 103,
   "outputs": [],
   "source": [
    "from Data_preparation import data_x\n",
    "for col in data_x.columns[data_x.isnull().any()]:\n",
    "    data_x[col].fillna(data_x[col].mean(), inplace=True)"
   ],
   "metadata": {
    "collapsed": false,
    "ExecuteTime": {
     "start_time": "2023-05-03T10:33:08.967110Z",
     "end_time": "2023-05-03T10:33:08.979246Z"
    }
   }
  },
  {
   "cell_type": "markdown",
   "source": [
    "Ensuite, nous fusionnons data_x et data_y pour comparer nos valeurs d'entrées avec nos valeurs de sorties en joignant sur l'ID. Puis, nous trions sur DAY_ID et COUNTRY pour une meilleure lisibilité."
   ],
   "metadata": {
    "collapsed": false
   }
  },
  {
   "cell_type": "code",
   "execution_count": 104,
   "outputs": [],
   "source": [
    "from Data_preparation import data_x, data_y, pd\n",
    "merged_X_Y = pd.merge(data_x, data_y, on='ID', how='inner')\n",
    "merged_X_Y = merged_X_Y.sort_values(by=['DAY_ID', 'COUNTRY'])\n"
   ],
   "metadata": {
    "collapsed": false,
    "ExecuteTime": {
     "start_time": "2023-05-03T10:33:08.986034Z",
     "end_time": "2023-05-03T10:33:08.997812Z"
    }
   }
  },
  {
   "cell_type": "markdown",
   "source": [
    "Puisque nous étudions la France et l'Allemagne nous créons deux datas : data_FR et data_DE et nous ajoutons leurs colonnes respectives."
   ],
   "metadata": {
    "collapsed": false
   }
  },
  {
   "cell_type": "code",
   "execution_count": 105,
   "outputs": [],
   "source": [
    "data_FR = merged_X_Y.loc[merged_X_Y['COUNTRY'] == 'FR']\n",
    "data_DE = merged_X_Y.loc[merged_X_Y['COUNTRY'] == 'DE']\n",
    "data_FR = data_FR.filter(regex='FR|GAS_RET|COAL_RET', axis=1)\n",
    "data_DE = data_DE.filter(regex='DE|GAS_RET|COAL_RET', axis=1)"
   ],
   "metadata": {
    "collapsed": false,
    "ExecuteTime": {
     "start_time": "2023-05-03T10:33:09.004259Z",
     "end_time": "2023-05-03T10:33:09.010309Z"
    }
   }
  },
  {
   "cell_type": "markdown",
   "source": [
    "Les valeurs des différents attributs sont comparables car ce sont toutes des variations dans le temps.\n",
    "\n",
    "B) Analyse exploratoire des données\n",
    "\n",
    "Afin de faire un aperçu des données nous utilisons plusieurs fonctions :\n"
   ],
   "metadata": {
    "collapsed": false
   }
  },
  {
   "cell_type": "code",
   "execution_count": 106,
   "outputs": [
    {
     "name": "stdout",
     "output_type": "stream",
     "text": [
      "<class 'pandas.core.frame.DataFrame'>\n",
      "RangeIndex: 1494 entries, 0 to 1493\n",
      "Data columns (total 35 columns):\n",
      " #   Column            Non-Null Count  Dtype  \n",
      "---  ------            --------------  -----  \n",
      " 0   ID                1494 non-null   int64  \n",
      " 1   DAY_ID            1494 non-null   int64  \n",
      " 2   COUNTRY           1494 non-null   object \n",
      " 3   DE_CONSUMPTION    1494 non-null   float64\n",
      " 4   FR_CONSUMPTION    1494 non-null   float64\n",
      " 5   DE_FR_EXCHANGE    1494 non-null   float64\n",
      " 6   FR_DE_EXCHANGE    1494 non-null   float64\n",
      " 7   DE_NET_EXPORT     1494 non-null   float64\n",
      " 8   FR_NET_EXPORT     1494 non-null   float64\n",
      " 9   DE_NET_IMPORT     1494 non-null   float64\n",
      " 10  FR_NET_IMPORT     1494 non-null   float64\n",
      " 11  DE_GAS            1494 non-null   float64\n",
      " 12  FR_GAS            1494 non-null   float64\n",
      " 13  DE_COAL           1494 non-null   float64\n",
      " 14  FR_COAL           1494 non-null   float64\n",
      " 15  DE_HYDRO          1494 non-null   float64\n",
      " 16  FR_HYDRO          1494 non-null   float64\n",
      " 17  DE_NUCLEAR        1494 non-null   float64\n",
      " 18  FR_NUCLEAR        1494 non-null   float64\n",
      " 19  DE_SOLAR          1494 non-null   float64\n",
      " 20  FR_SOLAR          1494 non-null   float64\n",
      " 21  DE_WINDPOW        1494 non-null   float64\n",
      " 22  FR_WINDPOW        1494 non-null   float64\n",
      " 23  DE_LIGNITE        1494 non-null   float64\n",
      " 24  DE_RESIDUAL_LOAD  1494 non-null   float64\n",
      " 25  FR_RESIDUAL_LOAD  1494 non-null   float64\n",
      " 26  DE_RAIN           1494 non-null   float64\n",
      " 27  FR_RAIN           1494 non-null   float64\n",
      " 28  DE_WIND           1494 non-null   float64\n",
      " 29  FR_WIND           1494 non-null   float64\n",
      " 30  DE_TEMP           1494 non-null   float64\n",
      " 31  FR_TEMP           1494 non-null   float64\n",
      " 32  GAS_RET           1494 non-null   float64\n",
      " 33  COAL_RET          1494 non-null   float64\n",
      " 34  CARBON_RET        1494 non-null   float64\n",
      "dtypes: float64(32), int64(2), object(1)\n",
      "memory usage: 408.6+ KB\n"
     ]
    },
    {
     "data": {
      "text/plain": "                ID       DAY_ID  DE_CONSUMPTION  FR_CONSUMPTION   \ncount  1494.000000  1494.000000     1494.000000     1494.000000  \\\nmean   1072.759036   591.861446        0.427442       -0.020032   \nstd     618.013179   345.065043        0.673412        0.918995   \nmin       0.000000     0.000000       -2.265563       -1.462350   \n25%     540.250000   292.250000       -0.037421       -0.716771   \n50%    1077.500000   591.000000        0.357061       -0.394166   \n75%    1597.500000   885.750000        0.922057        0.650533   \nmax    2146.000000  1215.000000        2.033851        3.300640   \n\n       DE_FR_EXCHANGE  FR_DE_EXCHANGE  DE_NET_EXPORT  FR_NET_EXPORT   \ncount     1494.000000     1494.000000    1494.000000    1494.000000  \\\nmean        -0.145508        0.145508      -0.256332      -0.072643   \nstd          0.962068        0.962068       0.916821       1.050307   \nmin         -2.856874       -2.634831      -2.464849      -2.825331   \n25%         -0.869990       -0.631683      -0.921263      -0.820640   \n50%         -0.145508        0.145508      -0.256332       0.041508   \n75%          0.631683        0.869990       0.395910       0.774676   \nmax          2.634831        2.856874       2.279619       1.951516   \n\n       DE_NET_IMPORT  FR_NET_IMPORT  ...  FR_RESIDUAL_LOAD      DE_RAIN   \ncount    1494.000000    1494.000000  ...       1494.000000  1494.000000  \\\nmean        0.256332       0.072643  ...         -0.153688    -0.037831   \nstd         0.916821       1.050307  ...          0.896325     0.952745   \nmin        -2.279619      -1.951516  ...         -1.678936    -2.128531   \n25%        -0.395910      -0.774676  ...         -0.802333    -0.618791   \n50%         0.256332      -0.041508  ...         -0.460160    -0.211042   \n75%         0.921263       0.820640  ...          0.382191     0.274779   \nmax         2.464849       2.825331  ...          2.918326     7.756118   \n\n           FR_RAIN      DE_WIND      FR_WIND      DE_TEMP      FR_TEMP   \ncount  1494.000000  1494.000000  1494.000000  1494.000000  1494.000000  \\\nmean      0.019357     0.109480     0.123099     0.009451     0.008404   \nstd       1.018132     1.022452     1.020950     0.941285     0.971257   \nmin      -1.726420    -1.880419    -1.895319    -4.549638    -5.787097   \n25%      -0.488625    -0.633867    -0.645796    -0.577139    -0.597690   \n50%      -0.193154    -0.193572    -0.146217     0.009451     0.008404   \n75%       0.125947     0.587377     0.677040     0.569285     0.650856   \nmax       9.473201     5.085624     4.965028     2.858758     2.817239   \n\n           GAS_RET     COAL_RET   CARBON_RET  \ncount  1494.000000  1494.000000  1494.000000  \nmean      0.058126     0.061724     0.080510  \nstd       1.097768     1.033853     1.098624  \nmin      -5.349463    -5.706442    -4.281790  \n25%      -0.624238    -0.458038    -0.522968  \n50%       0.008493     0.063312     0.054056  \n75%       0.676415     0.641446     0.599094  \nmax       5.674778     3.746576     5.471818  \n\n[8 rows x 34 columns]",
      "text/html": "<div>\n<style scoped>\n    .dataframe tbody tr th:only-of-type {\n        vertical-align: middle;\n    }\n\n    .dataframe tbody tr th {\n        vertical-align: top;\n    }\n\n    .dataframe thead th {\n        text-align: right;\n    }\n</style>\n<table border=\"1\" class=\"dataframe\">\n  <thead>\n    <tr style=\"text-align: right;\">\n      <th></th>\n      <th>ID</th>\n      <th>DAY_ID</th>\n      <th>DE_CONSUMPTION</th>\n      <th>FR_CONSUMPTION</th>\n      <th>DE_FR_EXCHANGE</th>\n      <th>FR_DE_EXCHANGE</th>\n      <th>DE_NET_EXPORT</th>\n      <th>FR_NET_EXPORT</th>\n      <th>DE_NET_IMPORT</th>\n      <th>FR_NET_IMPORT</th>\n      <th>...</th>\n      <th>FR_RESIDUAL_LOAD</th>\n      <th>DE_RAIN</th>\n      <th>FR_RAIN</th>\n      <th>DE_WIND</th>\n      <th>FR_WIND</th>\n      <th>DE_TEMP</th>\n      <th>FR_TEMP</th>\n      <th>GAS_RET</th>\n      <th>COAL_RET</th>\n      <th>CARBON_RET</th>\n    </tr>\n  </thead>\n  <tbody>\n    <tr>\n      <th>count</th>\n      <td>1494.000000</td>\n      <td>1494.000000</td>\n      <td>1494.000000</td>\n      <td>1494.000000</td>\n      <td>1494.000000</td>\n      <td>1494.000000</td>\n      <td>1494.000000</td>\n      <td>1494.000000</td>\n      <td>1494.000000</td>\n      <td>1494.000000</td>\n      <td>...</td>\n      <td>1494.000000</td>\n      <td>1494.000000</td>\n      <td>1494.000000</td>\n      <td>1494.000000</td>\n      <td>1494.000000</td>\n      <td>1494.000000</td>\n      <td>1494.000000</td>\n      <td>1494.000000</td>\n      <td>1494.000000</td>\n      <td>1494.000000</td>\n    </tr>\n    <tr>\n      <th>mean</th>\n      <td>1072.759036</td>\n      <td>591.861446</td>\n      <td>0.427442</td>\n      <td>-0.020032</td>\n      <td>-0.145508</td>\n      <td>0.145508</td>\n      <td>-0.256332</td>\n      <td>-0.072643</td>\n      <td>0.256332</td>\n      <td>0.072643</td>\n      <td>...</td>\n      <td>-0.153688</td>\n      <td>-0.037831</td>\n      <td>0.019357</td>\n      <td>0.109480</td>\n      <td>0.123099</td>\n      <td>0.009451</td>\n      <td>0.008404</td>\n      <td>0.058126</td>\n      <td>0.061724</td>\n      <td>0.080510</td>\n    </tr>\n    <tr>\n      <th>std</th>\n      <td>618.013179</td>\n      <td>345.065043</td>\n      <td>0.673412</td>\n      <td>0.918995</td>\n      <td>0.962068</td>\n      <td>0.962068</td>\n      <td>0.916821</td>\n      <td>1.050307</td>\n      <td>0.916821</td>\n      <td>1.050307</td>\n      <td>...</td>\n      <td>0.896325</td>\n      <td>0.952745</td>\n      <td>1.018132</td>\n      <td>1.022452</td>\n      <td>1.020950</td>\n      <td>0.941285</td>\n      <td>0.971257</td>\n      <td>1.097768</td>\n      <td>1.033853</td>\n      <td>1.098624</td>\n    </tr>\n    <tr>\n      <th>min</th>\n      <td>0.000000</td>\n      <td>0.000000</td>\n      <td>-2.265563</td>\n      <td>-1.462350</td>\n      <td>-2.856874</td>\n      <td>-2.634831</td>\n      <td>-2.464849</td>\n      <td>-2.825331</td>\n      <td>-2.279619</td>\n      <td>-1.951516</td>\n      <td>...</td>\n      <td>-1.678936</td>\n      <td>-2.128531</td>\n      <td>-1.726420</td>\n      <td>-1.880419</td>\n      <td>-1.895319</td>\n      <td>-4.549638</td>\n      <td>-5.787097</td>\n      <td>-5.349463</td>\n      <td>-5.706442</td>\n      <td>-4.281790</td>\n    </tr>\n    <tr>\n      <th>25%</th>\n      <td>540.250000</td>\n      <td>292.250000</td>\n      <td>-0.037421</td>\n      <td>-0.716771</td>\n      <td>-0.869990</td>\n      <td>-0.631683</td>\n      <td>-0.921263</td>\n      <td>-0.820640</td>\n      <td>-0.395910</td>\n      <td>-0.774676</td>\n      <td>...</td>\n      <td>-0.802333</td>\n      <td>-0.618791</td>\n      <td>-0.488625</td>\n      <td>-0.633867</td>\n      <td>-0.645796</td>\n      <td>-0.577139</td>\n      <td>-0.597690</td>\n      <td>-0.624238</td>\n      <td>-0.458038</td>\n      <td>-0.522968</td>\n    </tr>\n    <tr>\n      <th>50%</th>\n      <td>1077.500000</td>\n      <td>591.000000</td>\n      <td>0.357061</td>\n      <td>-0.394166</td>\n      <td>-0.145508</td>\n      <td>0.145508</td>\n      <td>-0.256332</td>\n      <td>0.041508</td>\n      <td>0.256332</td>\n      <td>-0.041508</td>\n      <td>...</td>\n      <td>-0.460160</td>\n      <td>-0.211042</td>\n      <td>-0.193154</td>\n      <td>-0.193572</td>\n      <td>-0.146217</td>\n      <td>0.009451</td>\n      <td>0.008404</td>\n      <td>0.008493</td>\n      <td>0.063312</td>\n      <td>0.054056</td>\n    </tr>\n    <tr>\n      <th>75%</th>\n      <td>1597.500000</td>\n      <td>885.750000</td>\n      <td>0.922057</td>\n      <td>0.650533</td>\n      <td>0.631683</td>\n      <td>0.869990</td>\n      <td>0.395910</td>\n      <td>0.774676</td>\n      <td>0.921263</td>\n      <td>0.820640</td>\n      <td>...</td>\n      <td>0.382191</td>\n      <td>0.274779</td>\n      <td>0.125947</td>\n      <td>0.587377</td>\n      <td>0.677040</td>\n      <td>0.569285</td>\n      <td>0.650856</td>\n      <td>0.676415</td>\n      <td>0.641446</td>\n      <td>0.599094</td>\n    </tr>\n    <tr>\n      <th>max</th>\n      <td>2146.000000</td>\n      <td>1215.000000</td>\n      <td>2.033851</td>\n      <td>3.300640</td>\n      <td>2.634831</td>\n      <td>2.856874</td>\n      <td>2.279619</td>\n      <td>1.951516</td>\n      <td>2.464849</td>\n      <td>2.825331</td>\n      <td>...</td>\n      <td>2.918326</td>\n      <td>7.756118</td>\n      <td>9.473201</td>\n      <td>5.085624</td>\n      <td>4.965028</td>\n      <td>2.858758</td>\n      <td>2.817239</td>\n      <td>5.674778</td>\n      <td>3.746576</td>\n      <td>5.471818</td>\n    </tr>\n  </tbody>\n</table>\n<p>8 rows × 34 columns</p>\n</div>"
     },
     "execution_count": 106,
     "metadata": {},
     "output_type": "execute_result"
    }
   ],
   "source": [
    "data_x.info()\n",
    "data_x.describe()"
   ],
   "metadata": {
    "collapsed": false,
    "ExecuteTime": {
     "start_time": "2023-05-03T10:33:09.015535Z",
     "end_time": "2023-05-03T10:33:09.101177Z"
    }
   }
  },
  {
   "cell_type": "markdown",
   "source": [
    "info() permet d'afficher le type de chaque colonnes et si elles sont nulles ou non\n",
    "describe() permet d'afficher la somme de toutes les lignes de chaque colonne avec \"count\", la moyenne de la colonne avec \"mean\", l'écart-type de la colonne avec \"std\", le minimum et le maximum de chaque colonne avec \"min\" et \"max\". De plus, nous avons les 25%, les 50% et les 75% premières valeurs de chaque colonne.\n"
   ],
   "metadata": {
    "collapsed": false
   }
  },
  {
   "cell_type": "code",
   "execution_count": 106,
   "outputs": [],
   "source": [],
   "metadata": {
    "collapsed": false,
    "ExecuteTime": {
     "start_time": "2023-05-03T10:33:09.103984Z",
     "end_time": "2023-05-03T10:33:09.106157Z"
    }
   }
  }
 ],
 "metadata": {
  "kernelspec": {
   "display_name": "Python 3",
   "language": "python",
   "name": "python3"
  },
  "language_info": {
   "codemirror_mode": {
    "name": "ipython",
    "version": 2
   },
   "file_extension": ".py",
   "mimetype": "text/x-python",
   "name": "python",
   "nbconvert_exporter": "python",
   "pygments_lexer": "ipython2",
   "version": "2.7.6"
  }
 },
 "nbformat": 4,
 "nbformat_minor": 0
}
