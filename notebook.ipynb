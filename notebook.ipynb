{
 "cells": [
  {
   "cell_type": "markdown",
   "source": [
    "Projet de Machine Learning : expliquer le prix de l'électricité\n",
    "\n",
    "Romain Foucher\n",
    "Matthieu Evort\n",
    "Julie Chen\n",
    "\n",
    "\n",
    "Introduction :\n",
    "\n",
    "Le machine learning est une technologie qui vise à apprendre aux machines à tirer des enseignements des données et à s'améliorer avec l'expérience, au lieu d'être explicitement programmées pour le faire.\n",
    "\n",
    "Ce projet consiste a expliquer le prix de l'électricité selon une multitude de facteurs. On peut citer le climat, le réchauffement climatique, les  événements géopolitiques... De plus, chaque pays s’appuie sur un mix  énergétique qui lui est propre (nucl ́eaire, solaire, hydrolique, gaz, charbon, etc).\n",
    "\n",
    " Pour cela, nous allons utiliser plusieurs méthodes afin de préparer nos données, de les analyser et de les modéliser grâce aux cours et aux TP que nous avons pu effectuer en cours mais ainsi qu'à la documantation d'internet.\n",
    "\n",
    "Sommaire :\n",
    "\n",
    "1) Préparation des données\n",
    "2) Analyse exploratoire des données\n",
    "3) Modélisation des données\n",
    "\n",
    "\n",
    "1) Préparation des donnés\n",
    "\n",
    "Afin de préparer nos données nous allons remplir les cases vides par la médianne de la colonne. En effet, si nous supprimons les lignes ou les colonnes, nous perdrons des informations et nous réduisons la taille de l'échantillon."
   ],
   "metadata": {
    "collapsed": false
   }
  },
  {
   "cell_type": "code",
   "execution_count": 6,
   "outputs": [
    {
     "name": "stdout",
     "output_type": "stream",
     "text": [
      "         ID  DAY_ID  COUNTRY  DE_CONSUMPTION  FR_CONSUMPTION  DE_FR_EXCHANGE   \n",
      "0     False   False    False           False           False           False  \\\n",
      "1     False   False    False           False           False           False   \n",
      "2     False   False    False           False           False           False   \n",
      "3     False   False    False           False           False           False   \n",
      "4     False   False    False           False           False           False   \n",
      "...     ...     ...      ...             ...             ...             ...   \n",
      "1489  False   False    False           False           False           False   \n",
      "1490  False   False    False           False           False           False   \n",
      "1491  False   False    False           False           False           False   \n",
      "1492  False   False    False           False           False           False   \n",
      "1493  False   False    False           False           False           False   \n",
      "\n",
      "      FR_DE_EXCHANGE  DE_NET_EXPORT  FR_NET_EXPORT  DE_NET_IMPORT  ...   \n",
      "0              False           True          False           True  ...  \\\n",
      "1              False          False          False          False  ...   \n",
      "2              False          False          False          False  ...   \n",
      "3              False          False          False          False  ...   \n",
      "4              False           True          False           True  ...   \n",
      "...              ...            ...            ...            ...  ...   \n",
      "1489           False          False          False          False  ...   \n",
      "1490           False          False          False          False  ...   \n",
      "1491           False          False          False          False  ...   \n",
      "1492           False          False          False          False  ...   \n",
      "1493           False          False          False          False  ...   \n",
      "\n",
      "      FR_RESIDUAL_LOAD  DE_RAIN  FR_RAIN  DE_WIND  FR_WIND  DE_TEMP  FR_TEMP   \n",
      "0                False    False    False    False    False    False    False  \\\n",
      "1                False    False    False    False    False    False    False   \n",
      "2                False    False    False    False    False    False    False   \n",
      "3                False    False    False    False    False    False    False   \n",
      "4                False    False    False    False    False    False    False   \n",
      "...                ...      ...      ...      ...      ...      ...      ...   \n",
      "1489             False     True     True     True     True     True     True   \n",
      "1490             False     True     True     True     True     True     True   \n",
      "1491             False    False    False    False    False    False    False   \n",
      "1492             False    False    False    False    False    False    False   \n",
      "1493             False    False    False    False    False    False    False   \n",
      "\n",
      "      GAS_RET  COAL_RET  CARBON_RET  \n",
      "0       False     False       False  \n",
      "1       False     False       False  \n",
      "2       False     False       False  \n",
      "3       False     False       False  \n",
      "4       False     False       False  \n",
      "...       ...       ...         ...  \n",
      "1489    False     False       False  \n",
      "1490    False     False       False  \n",
      "1491    False     False       False  \n",
      "1492    False     False       False  \n",
      "1493    False     False       False  \n",
      "\n",
      "[1494 rows x 35 columns]\n",
      "0      -0.172680\n",
      "1      -1.240300\n",
      "2      -0.480700\n",
      "3      -1.114838\n",
      "4      -0.541465\n",
      "          ...   \n",
      "1489         NaN\n",
      "1490         NaN\n",
      "1491    0.207905\n",
      "1492   -0.682815\n",
      "1493   -0.757347\n",
      "Name: DE_RAIN, Length: 1494, dtype: float64\n"
     ]
    },
    {
     "ename": "NameError",
     "evalue": "name 'df' is not defined",
     "output_type": "error",
     "traceback": [
      "\u001B[0;31m---------------------------------------------------------------------------\u001B[0m",
      "\u001B[0;31mNameError\u001B[0m                                 Traceback (most recent call last)",
      "Cell \u001B[0;32mIn[6], line 1\u001B[0m\n\u001B[0;32m----> 1\u001B[0m \u001B[38;5;28;01mfrom\u001B[39;00m \u001B[38;5;21;01mData_preparation\u001B[39;00m \u001B[38;5;28;01mimport\u001B[39;00m data_x\n\u001B[1;32m      3\u001B[0m \u001B[38;5;28mprint\u001B[39m(\u001B[38;5;241m0.0\u001B[39m \u001B[38;5;129;01min\u001B[39;00m data_x\u001B[38;5;241m.\u001B[39mvalues)\n",
      "File \u001B[0;32m~/Downloads/Projet_Machine_Learning/Data_preparation.py:28\u001B[0m\n\u001B[1;32m     26\u001B[0m \u001B[38;5;28mprint\u001B[39m(data_x\u001B[38;5;241m.\u001B[39misnull())\n\u001B[1;32m     27\u001B[0m \u001B[38;5;28mprint\u001B[39m(data_x\u001B[38;5;241m.\u001B[39mloc[:,\u001B[38;5;124m'\u001B[39m\u001B[38;5;124mDE_RAIN\u001B[39m\u001B[38;5;124m'\u001B[39m])\n\u001B[0;32m---> 28\u001B[0m \u001B[43mdf\u001B[49m\u001B[38;5;241m.\u001B[39mloc[:,\u001B[38;5;124m'\u001B[39m\u001B[38;5;124mSalePrice\u001B[39m\u001B[38;5;124m'\u001B[39m]\n",
      "\u001B[0;31mNameError\u001B[0m: name 'df' is not defined"
     ]
    }
   ],
   "source": [
    "from Data_preparation import data_x\n",
    "\n",
    "print(0.0 in data_x.values)\n",
    "\n"
   ],
   "metadata": {
    "collapsed": false
   }
  },
  {
   "cell_type": "code",
   "execution_count": null,
   "outputs": [],
   "source": [],
   "metadata": {
    "collapsed": false
   }
  }
 ],
 "metadata": {
  "kernelspec": {
   "display_name": "Python 3",
   "language": "python",
   "name": "python3"
  },
  "language_info": {
   "codemirror_mode": {
    "name": "ipython",
    "version": 2
   },
   "file_extension": ".py",
   "mimetype": "text/x-python",
   "name": "python",
   "nbconvert_exporter": "python",
   "pygments_lexer": "ipython2",
   "version": "2.7.6"
  }
 },
 "nbformat": 4,
 "nbformat_minor": 0
}
