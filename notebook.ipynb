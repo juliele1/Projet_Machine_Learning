{
 "cells": [
  {
   "cell_type": "markdown",
   "source": [
    "Projet de Machine Learning : expliquer le prix de l'électricité\n",
    "\n",
    "Romain Foucher\n",
    "Matthieu Evort\n",
    "Julie Chen\n",
    "\n",
    "\n",
    "Introduction :\n",
    "\n",
    "Le machine learning est une technologie qui vise à apprendre aux machines à tirer des enseignements des données et à s'améliorer avec l'expérience, au lieu d'être explicitement programmées pour le faire.\n",
    "\n",
    "Ce projet consiste a expliquer le prix de l'électricité en France et en Allemagne selon une multitude de facteurs. On peut citer le climat, le réchauffement climatique, les  événements géopolitiques... De plus, chaque pays s’appuie sur un mix  énergétique qui lui est propre (nucléaire, solaire, hydrolique, gaz, charbon, etc).\n",
    "\n",
    " Pour cela, nous allons utiliser plusieurs méthodes afin de préparer nos données, de les analyser et de les modéliser grâce aux cours et aux TP que nous avons pu effectuer en cours mais ainsi qu'à la documantation d'internet.\n",
    "\n",
    "Sommaire :\n",
    "\n",
    "A) Préparation des données\n",
    "B) Analyse exploratoire des données\n",
    "C) Modélisation des données\n",
    "\n",
    "\n",
    "A) Préparation des données\n",
    "\n",
    "Afin de préparer nos données nous allons remplir les cases vides par la moyenne de la colonne. En effet, si nous supprimons les lignes ou les colonnes, nous perdrons des informations et nous réduisons la taille de l'échantillon. Cependant, nous n'allons pas supprimer ou remplacer les données \"0.0\" car elles sont utiles. En effet, il est possible que la variation du prix du charbon ou du gaz d'un pays ne change pas d'une journée à l'autre."
   ],
   "metadata": {
    "collapsed": false
   }
  },
  {
   "cell_type": "code",
   "execution_count": 119,
   "outputs": [],
   "source": [
    "from Data_preparation import data_x\n",
    "for col in data_x.columns[data_x.isnull().any()]:\n",
    "    data_x[col].fillna(data_x[col].mean(), inplace=True)"
   ],
   "metadata": {
    "collapsed": false,
    "ExecuteTime": {
     "start_time": "2023-05-03T14:58:07.056535Z",
     "end_time": "2023-05-03T14:58:07.081137Z"
    }
   }
  },
  {
   "cell_type": "markdown",
   "source": [
    "Ensuite, nous fusionnons data_x et data_y pour comparer nos valeurs d'entrées avec nos valeurs de sorties en joignant sur l'ID. Puis, nous trions sur DAY_ID et COUNTRY pour une meilleure lisibilité."
   ],
   "metadata": {
    "collapsed": false
   }
  },
  {
   "cell_type": "code",
   "execution_count": 120,
   "outputs": [],
   "source": [
    "from Data_preparation import data_x, data_y, pd\n",
    "merged_X_Y = pd.merge(data_x, data_y, on='ID', how='inner')\n",
    "merged_X_Y = merged_X_Y.sort_values(by=['DAY_ID', 'COUNTRY'])\n"
   ],
   "metadata": {
    "collapsed": false,
    "ExecuteTime": {
     "start_time": "2023-05-03T14:58:07.070119Z",
     "end_time": "2023-05-03T14:58:07.099167Z"
    }
   }
  },
  {
   "cell_type": "markdown",
   "source": [
    "Puisque nous étudions la France et l'Allemagne nous créons deux datas : data_FR et data_DE et nous ajoutons leurs colonnes respectives sans oublier de mettre TARGET."
   ],
   "metadata": {
    "collapsed": false
   }
  },
  {
   "cell_type": "code",
   "execution_count": 121,
   "outputs": [],
   "source": [
    "data_FR = merged_X_Y.loc[merged_X_Y['COUNTRY'] == 'FR']\n",
    "data_DE = merged_X_Y.loc[merged_X_Y['COUNTRY'] == 'DE']\n",
    "data_FR = data_FR.filter(regex='FR|GAS_RET|COAL_RET|TARGET', axis=1)\n",
    "data_DE = data_DE.filter(regex='DE|GAS_RET|COAL_RET|TARGET', axis=1)"
   ],
   "metadata": {
    "collapsed": false,
    "ExecuteTime": {
     "start_time": "2023-05-03T14:58:07.086436Z",
     "end_time": "2023-05-03T14:58:07.099372Z"
    }
   }
  },
  {
   "cell_type": "markdown",
   "source": [
    "Les valeurs des différents attributs sont comparables car ce sont toutes des variations dans le temps.\n",
    "\n",
    "B) Analyse exploratoire des données\n",
    "\n",
    "Afin de faire un aperçu des données nous utilisons plusieurs fonctions :\n"
   ],
   "metadata": {
    "collapsed": false
   }
  },
  {
   "cell_type": "code",
   "execution_count": 122,
   "outputs": [
    {
     "name": "stdout",
     "output_type": "stream",
     "text": [
      "<class 'pandas.core.frame.DataFrame'>\n",
      "Index: 851 entries, 742 to 1437\n",
      "Data columns (total 18 columns):\n",
      " #   Column            Non-Null Count  Dtype  \n",
      "---  ------            --------------  -----  \n",
      " 0   FR_CONSUMPTION    851 non-null    float64\n",
      " 1   DE_FR_EXCHANGE    851 non-null    float64\n",
      " 2   FR_DE_EXCHANGE    851 non-null    float64\n",
      " 3   FR_NET_EXPORT     851 non-null    float64\n",
      " 4   FR_NET_IMPORT     851 non-null    float64\n",
      " 5   FR_GAS            851 non-null    float64\n",
      " 6   FR_COAL           851 non-null    float64\n",
      " 7   FR_HYDRO          851 non-null    float64\n",
      " 8   FR_NUCLEAR        851 non-null    float64\n",
      " 9   FR_SOLAR          851 non-null    float64\n",
      " 10  FR_WINDPOW        851 non-null    float64\n",
      " 11  FR_RESIDUAL_LOAD  851 non-null    float64\n",
      " 12  FR_RAIN           851 non-null    float64\n",
      " 13  FR_WIND           851 non-null    float64\n",
      " 14  FR_TEMP           851 non-null    float64\n",
      " 15  GAS_RET           851 non-null    float64\n",
      " 16  COAL_RET          851 non-null    float64\n",
      " 17  TARGET            851 non-null    float64\n",
      "dtypes: float64(18)\n",
      "memory usage: 126.3 KB\n"
     ]
    },
    {
     "data": {
      "text/plain": "       FR_CONSUMPTION  DE_FR_EXCHANGE  FR_DE_EXCHANGE  FR_NET_EXPORT   \ncount      851.000000      851.000000      851.000000     851.000000  \\\nmean         0.033707       -0.125025        0.125025      -0.033290   \nstd          0.943071        0.941634        0.941634       1.015605   \nmin         -1.462350       -2.856874       -2.634831      -2.825331   \n25%         -0.699925       -0.828152       -0.602534      -0.710545   \n50%         -0.365601       -0.145508        0.145508       0.041500   \n75%          0.739198        0.602534        0.828152       0.757525   \nmax          3.300640        2.634831        2.856874       1.951516   \n\n       FR_NET_IMPORT      FR_GAS     FR_COAL    FR_HYDRO  FR_NUCLEAR   \ncount     851.000000  851.000000  851.000000  851.000000  851.000000  \\\nmean        0.033290    0.397208   -0.390668    0.163946   -0.332241   \nstd         1.015605    0.925580    0.530913    1.054493    0.989031   \nmin        -1.951516   -1.317350   -0.794950   -1.758523   -2.595326   \n25%        -0.757525   -0.213153   -0.778677   -0.639208   -0.863334   \n50%        -0.041500    0.244309   -0.757349   -0.079222   -0.245237   \n75%         0.710545    1.127789   -0.145822    0.852186    0.248058   \nmax         2.825331    2.372570    1.905512    3.730478    1.854408   \n\n         FR_SOLAR  FR_WINDPOW  FR_RESIDUAL_LOAD     FR_RAIN     FR_WIND   \ncount  851.000000  851.000000        851.000000  851.000000  851.000000  \\\nmean     0.543592    0.362208         -0.087124    0.023466    0.031605   \nstd      1.060339    1.174623          0.922673    1.005274    0.998001   \nmin     -1.312588   -1.143277         -1.678936   -1.726420   -1.895319   \n25%     -0.343903   -0.550885         -0.768812   -0.484767   -0.697246   \n50%      0.483360   -0.009072         -0.409541   -0.193154   -0.264217   \n75%      1.268300    0.930943          0.492683    0.130232    0.491794   \nmax      3.648905    4.965793          2.918326    9.473201    4.965028   \n\n          FR_TEMP     GAS_RET    COAL_RET      TARGET  \ncount  851.000000  851.000000  851.000000  851.000000  \nmean     0.002808    0.039947    0.069333    0.046026  \nstd      0.979805    1.091868    1.043115    1.023512  \nmin     -5.787097   -5.349463   -5.706442   -6.519268  \n25%     -0.595664   -0.647117   -0.459531   -0.178023  \n50%      0.008404    0.000000    0.071501   -0.003619  \n75%      0.648230    0.655334    0.647094    0.174344  \nmax      2.817239    5.674778    3.746576    7.786578  ",
      "text/html": "<div>\n<style scoped>\n    .dataframe tbody tr th:only-of-type {\n        vertical-align: middle;\n    }\n\n    .dataframe tbody tr th {\n        vertical-align: top;\n    }\n\n    .dataframe thead th {\n        text-align: right;\n    }\n</style>\n<table border=\"1\" class=\"dataframe\">\n  <thead>\n    <tr style=\"text-align: right;\">\n      <th></th>\n      <th>FR_CONSUMPTION</th>\n      <th>DE_FR_EXCHANGE</th>\n      <th>FR_DE_EXCHANGE</th>\n      <th>FR_NET_EXPORT</th>\n      <th>FR_NET_IMPORT</th>\n      <th>FR_GAS</th>\n      <th>FR_COAL</th>\n      <th>FR_HYDRO</th>\n      <th>FR_NUCLEAR</th>\n      <th>FR_SOLAR</th>\n      <th>FR_WINDPOW</th>\n      <th>FR_RESIDUAL_LOAD</th>\n      <th>FR_RAIN</th>\n      <th>FR_WIND</th>\n      <th>FR_TEMP</th>\n      <th>GAS_RET</th>\n      <th>COAL_RET</th>\n      <th>TARGET</th>\n    </tr>\n  </thead>\n  <tbody>\n    <tr>\n      <th>count</th>\n      <td>851.000000</td>\n      <td>851.000000</td>\n      <td>851.000000</td>\n      <td>851.000000</td>\n      <td>851.000000</td>\n      <td>851.000000</td>\n      <td>851.000000</td>\n      <td>851.000000</td>\n      <td>851.000000</td>\n      <td>851.000000</td>\n      <td>851.000000</td>\n      <td>851.000000</td>\n      <td>851.000000</td>\n      <td>851.000000</td>\n      <td>851.000000</td>\n      <td>851.000000</td>\n      <td>851.000000</td>\n      <td>851.000000</td>\n    </tr>\n    <tr>\n      <th>mean</th>\n      <td>0.033707</td>\n      <td>-0.125025</td>\n      <td>0.125025</td>\n      <td>-0.033290</td>\n      <td>0.033290</td>\n      <td>0.397208</td>\n      <td>-0.390668</td>\n      <td>0.163946</td>\n      <td>-0.332241</td>\n      <td>0.543592</td>\n      <td>0.362208</td>\n      <td>-0.087124</td>\n      <td>0.023466</td>\n      <td>0.031605</td>\n      <td>0.002808</td>\n      <td>0.039947</td>\n      <td>0.069333</td>\n      <td>0.046026</td>\n    </tr>\n    <tr>\n      <th>std</th>\n      <td>0.943071</td>\n      <td>0.941634</td>\n      <td>0.941634</td>\n      <td>1.015605</td>\n      <td>1.015605</td>\n      <td>0.925580</td>\n      <td>0.530913</td>\n      <td>1.054493</td>\n      <td>0.989031</td>\n      <td>1.060339</td>\n      <td>1.174623</td>\n      <td>0.922673</td>\n      <td>1.005274</td>\n      <td>0.998001</td>\n      <td>0.979805</td>\n      <td>1.091868</td>\n      <td>1.043115</td>\n      <td>1.023512</td>\n    </tr>\n    <tr>\n      <th>min</th>\n      <td>-1.462350</td>\n      <td>-2.856874</td>\n      <td>-2.634831</td>\n      <td>-2.825331</td>\n      <td>-1.951516</td>\n      <td>-1.317350</td>\n      <td>-0.794950</td>\n      <td>-1.758523</td>\n      <td>-2.595326</td>\n      <td>-1.312588</td>\n      <td>-1.143277</td>\n      <td>-1.678936</td>\n      <td>-1.726420</td>\n      <td>-1.895319</td>\n      <td>-5.787097</td>\n      <td>-5.349463</td>\n      <td>-5.706442</td>\n      <td>-6.519268</td>\n    </tr>\n    <tr>\n      <th>25%</th>\n      <td>-0.699925</td>\n      <td>-0.828152</td>\n      <td>-0.602534</td>\n      <td>-0.710545</td>\n      <td>-0.757525</td>\n      <td>-0.213153</td>\n      <td>-0.778677</td>\n      <td>-0.639208</td>\n      <td>-0.863334</td>\n      <td>-0.343903</td>\n      <td>-0.550885</td>\n      <td>-0.768812</td>\n      <td>-0.484767</td>\n      <td>-0.697246</td>\n      <td>-0.595664</td>\n      <td>-0.647117</td>\n      <td>-0.459531</td>\n      <td>-0.178023</td>\n    </tr>\n    <tr>\n      <th>50%</th>\n      <td>-0.365601</td>\n      <td>-0.145508</td>\n      <td>0.145508</td>\n      <td>0.041500</td>\n      <td>-0.041500</td>\n      <td>0.244309</td>\n      <td>-0.757349</td>\n      <td>-0.079222</td>\n      <td>-0.245237</td>\n      <td>0.483360</td>\n      <td>-0.009072</td>\n      <td>-0.409541</td>\n      <td>-0.193154</td>\n      <td>-0.264217</td>\n      <td>0.008404</td>\n      <td>0.000000</td>\n      <td>0.071501</td>\n      <td>-0.003619</td>\n    </tr>\n    <tr>\n      <th>75%</th>\n      <td>0.739198</td>\n      <td>0.602534</td>\n      <td>0.828152</td>\n      <td>0.757525</td>\n      <td>0.710545</td>\n      <td>1.127789</td>\n      <td>-0.145822</td>\n      <td>0.852186</td>\n      <td>0.248058</td>\n      <td>1.268300</td>\n      <td>0.930943</td>\n      <td>0.492683</td>\n      <td>0.130232</td>\n      <td>0.491794</td>\n      <td>0.648230</td>\n      <td>0.655334</td>\n      <td>0.647094</td>\n      <td>0.174344</td>\n    </tr>\n    <tr>\n      <th>max</th>\n      <td>3.300640</td>\n      <td>2.634831</td>\n      <td>2.856874</td>\n      <td>1.951516</td>\n      <td>2.825331</td>\n      <td>2.372570</td>\n      <td>1.905512</td>\n      <td>3.730478</td>\n      <td>1.854408</td>\n      <td>3.648905</td>\n      <td>4.965793</td>\n      <td>2.918326</td>\n      <td>9.473201</td>\n      <td>4.965028</td>\n      <td>2.817239</td>\n      <td>5.674778</td>\n      <td>3.746576</td>\n      <td>7.786578</td>\n    </tr>\n  </tbody>\n</table>\n</div>"
     },
     "execution_count": 122,
     "metadata": {},
     "output_type": "execute_result"
    }
   ],
   "source": [
    "data_FR.info()\n",
    "data_FR.describe()"
   ],
   "metadata": {
    "collapsed": false,
    "ExecuteTime": {
     "start_time": "2023-05-03T14:58:07.097235Z",
     "end_time": "2023-05-03T14:58:07.178808Z"
    }
   }
  },
  {
   "cell_type": "markdown",
   "source": [
    "info() permet d'afficher le type de chaque colonnes et si elles sont nulles ou non\n",
    "describe() permet d'afficher la somme de toutes les lignes de chaque colonne avec \"count\", la moyenne de la colonne avec \"mean\", l'écart-type de la colonne avec \"std\", le minimum et le maximum de chaque colonne avec \"min\" et \"max\". De plus, nous avons les 25%, les 50% et les 75% premières valeurs de chaque colonne.\n"
   ],
   "metadata": {
    "collapsed": false
   }
  },
  {
   "cell_type": "code",
   "execution_count": 122,
   "outputs": [],
   "source": [],
   "metadata": {
    "collapsed": false,
    "ExecuteTime": {
     "start_time": "2023-05-03T14:58:07.180773Z",
     "end_time": "2023-05-03T14:58:07.183850Z"
    }
   }
  }
 ],
 "metadata": {
  "kernelspec": {
   "display_name": "Python 3",
   "language": "python",
   "name": "python3"
  },
  "language_info": {
   "codemirror_mode": {
    "name": "ipython",
    "version": 2
   },
   "file_extension": ".py",
   "mimetype": "text/x-python",
   "name": "python",
   "nbconvert_exporter": "python",
   "pygments_lexer": "ipython2",
   "version": "2.7.6"
  }
 },
 "nbformat": 4,
 "nbformat_minor": 0
}
