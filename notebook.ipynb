{
 "cells": [
  {
   "cell_type": "markdown",
   "source": [
    "Projet de Machine Learning : expliquer le prix de l'électricité\n",
    "\n",
    "Romain Foucher\n",
    "Matthieu Evuort\n",
    "Julie Chen\n",
    "\n",
    "\n",
    "Introduction :\n",
    "\n",
    "Le machine learning est une technologie qui vise à apprendre aux machines à tirer des enseignements des données et à s'améliorer avec l'expérience, au lieu d'être explicitement programmées pour le faire.\n",
    "\n",
    "Ce projet consiste a expliquer le prix de l'électricité en France et en Allemagne selon une multitude de facteurs. On peut citer le climat, le réchauffement climatique, les  événements géopolitiques... De plus, chaque pays s’appuie sur un mix  énergétique qui lui est propre (nucléaire, solaire, hydrolique, gaz, charbon, etc).\n",
    "\n",
    " Pour cela, nous allons utiliser plusieurs méthodes afin de préparer nos données, de les analyser et de les modéliser grâce aux cours et aux TP que nous avons pu effectuer en cours mais ainsi qu'à la documantation d'internet.\n",
    "\n",
    "Sommaire :\n",
    "\n",
    "A) Préparation des données\n",
    "B) Analyse exploratoire des données\n",
    "C) Modélisation des données\n",
    "\n",
    "\n",
    "A) Préparation des données\n",
    "\n",
    "Afin de préparer nos données nous allons remplir les cases vides par la moyenne de la colonne. En effet, si nous supprimons les lignes ou les colonnes, nous perdrons des informations et nous réduisons la taille de l'échantillon. Cependant, nous n'allons pas supprimer ou remplacer les données \"0.0\" car elles sont utiles. En effet, il est possible que la variation du prix du charbon ou du gaz d'un pays ne change pas d'une journée à l'autre."
   ],
   "metadata": {
    "collapsed": false
   }
  },
  {
   "cell_type": "code",
   "execution_count": 1,
   "outputs": [
    {
     "name": "stdout",
     "output_type": "stream",
     "text": [
      "        ID  DAY_ID COUNTRY  DE_CONSUMPTION  FR_CONSUMPTION  DE_FR_EXCHANGE   \n",
      "0     1054     206      FR        0.210099       -0.427458       -0.606523  \\\n",
      "1     2049     501      FR       -0.022399       -1.003452       -0.022063   \n",
      "2     1924     687      FR        1.395035        1.978665        1.021305   \n",
      "3      297     720      DE       -0.983324       -0.849198       -0.839586   \n",
      "4     1101     818      FR        0.143807       -0.617038       -0.924990   \n",
      "...    ...     ...     ...             ...             ...             ...   \n",
      "1489   459     809      DE        1.529204        1.106682       -1.855327   \n",
      "1490  1674     887      FR        1.618582        1.752840        0.611392   \n",
      "1491   748    1083      DE        0.856399        0.489199       -0.255778   \n",
      "1492  1454    1133      FR        0.560689       -0.343777       -0.830239   \n",
      "1493   359    1118      DE        0.226730       -0.711005        0.873016   \n",
      "\n",
      "      FR_DE_EXCHANGE  DE_NET_EXPORT  FR_NET_EXPORT  DE_NET_IMPORT  ...   \n",
      "0           0.606523      -0.256332       0.692860       0.256332  ...  \\\n",
      "1           0.022063      -0.573520      -1.130838       0.573520  ...   \n",
      "2          -1.021305      -0.622021      -1.682587       0.622021  ...   \n",
      "3           0.839586      -0.270870       0.563230       0.270870  ...   \n",
      "4           0.924990      -0.256332       0.990324       0.256332  ...   \n",
      "...              ...            ...            ...            ...  ...   \n",
      "1489        1.855327      -0.218658       1.450426       0.218658  ...   \n",
      "1490       -0.611392       0.449153      -0.152146      -0.449153  ...   \n",
      "1491        0.255778      -1.531544      -0.829568       1.531544  ...   \n",
      "1492        0.830239      -0.304856       1.210230       0.304856  ...   \n",
      "1493       -0.873016       0.296651      -1.547075      -0.296651  ...   \n",
      "\n",
      "      FR_RESIDUAL_LOAD   DE_RAIN   FR_RAIN   DE_WIND   FR_WIND   DE_TEMP   \n",
      "0            -0.444661 -0.172680 -0.556356 -0.790823 -0.283160 -1.069070  \\\n",
      "1            -1.183194 -1.240300 -0.770457  1.522331  0.828412  0.437419   \n",
      "2             1.947273 -0.480700 -0.313338  0.431134  0.487608  0.684884   \n",
      "3            -0.976974 -1.114838 -0.507570 -0.499409 -0.236249  0.350938   \n",
      "4            -0.526267 -0.541465 -0.424550 -1.088158 -1.011560  0.614338   \n",
      "...                ...       ...       ...       ...       ...       ...   \n",
      "1489          0.509514 -0.037831  0.019357  0.109480  0.123099  0.009451   \n",
      "1490          1.666252 -0.037831  0.019357  0.109480  0.123099  0.009451   \n",
      "1491          0.358120  0.207905  0.404763 -0.594595  0.894011  0.256338   \n",
      "1492         -0.184862 -0.682815 -0.390304 -0.972088 -1.501930  1.215528   \n",
      "1493         -0.634501 -0.757347 -0.744355 -0.482286 -0.941070 -0.120703   \n",
      "\n",
      "       FR_TEMP   GAS_RET  COAL_RET  CARBON_RET  \n",
      "0    -0.063404  0.339041  0.124552   -0.002445  \n",
      "1     1.831241 -0.659091  0.047114   -0.490365  \n",
      "2     0.114836  0.535974  0.743338    0.204952  \n",
      "3    -0.417514  0.911652 -0.296168    1.073948  \n",
      "4     0.729495  0.245109  1.526606    2.614378  \n",
      "...        ...       ...       ...         ...  \n",
      "1489  0.008404  0.876984  0.819520    1.320373  \n",
      "1490  0.008404  0.932633 -0.085690    0.356356  \n",
      "1491  0.402316 -1.112899 -0.237835    0.067152  \n",
      "1492  1.338708  0.962812 -5.392852   -0.843812  \n",
      "1493  0.391491  1.059829 -0.326640   -0.566724  \n",
      "\n",
      "[1494 rows x 35 columns]\n",
      "        ID  DAY_ID COUNTRY  DE_CONSUMPTION  FR_CONSUMPTION  DE_FR_EXCHANGE   \n",
      "742   1057       0      FR        0.048418       -0.465067       -0.079296  \\\n",
      "1211  1179       1      FR        0.966997        1.222131        0.331356   \n",
      "1468   111       2      DE       -0.068972       -0.667390       -1.102015   \n",
      "1408  1327       2      FR       -0.068972       -0.667390       -1.102015   \n",
      "680    800       3      DE       -0.134670       -0.834564       -1.051716   \n",
      "...    ...     ...     ...             ...             ...             ...   \n",
      "986    771    1212      DE       -0.046100       -0.520506       -0.270515   \n",
      "1007  1987    1212      FR       -0.046100       -0.520506       -0.270515   \n",
      "1465   472    1213      DE        1.407027        1.313254       -0.456126   \n",
      "873   1688    1213      FR        1.407027        1.313254       -0.456126   \n",
      "1437  1049    1215      FR        0.544810       -0.378158       -0.065993   \n",
      "\n",
      "      FR_DE_EXCHANGE  DE_NET_EXPORT  FR_NET_EXPORT  DE_NET_IMPORT  ...   \n",
      "742         0.079296      -0.256332       0.650577       0.256332  ...  \\\n",
      "1211       -0.331356       0.405549       0.778627      -0.405549  ...   \n",
      "1468        1.102015      -1.080403       0.256736       1.080403  ...   \n",
      "1408        1.102015      -1.080403       0.256736       1.080403  ...   \n",
      "680         1.051716      -1.881881      -0.612133       1.881881  ...   \n",
      "...              ...            ...            ...            ...  ...   \n",
      "986         0.270515      -0.137917      -0.789824       0.137917  ...   \n",
      "1007        0.270515      -0.137917      -0.789824       0.137917  ...   \n",
      "1465        0.456126       0.333142      -0.069222      -0.333142  ...   \n",
      "873         0.456126       0.333142      -0.069222      -0.333142  ...   \n",
      "1437        0.065993      -0.256332       0.257829       0.256332  ...   \n",
      "\n",
      "       DE_RAIN   FR_RAIN   DE_WIND   FR_WIND   DE_TEMP   FR_TEMP   GAS_RET   \n",
      "742  -0.987968 -0.856204 -0.655528 -1.099226  0.279885  0.583874 -1.071996  \\\n",
      "1211 -0.370990 -0.497520 -1.184018 -1.465608  1.349212  0.231602  1.480313   \n",
      "1468 -0.344600 -0.372156 -0.623041 -0.926064 -0.148950  0.641235  1.802550   \n",
      "1408 -0.344600 -0.372156 -0.623041 -0.926064 -0.148950  0.641235  1.802550   \n",
      "680  -1.394561 -1.118297  0.244859  0.488650 -1.710888 -0.951057  0.440121   \n",
      "...        ...       ...       ...       ...       ...       ...       ...   \n",
      "986  -0.039379 -0.237434  1.358211  1.123953 -0.707839 -0.308232  0.017778   \n",
      "1007 -0.039379 -0.237434  1.358211  1.123953 -0.707839 -0.308232  0.017778   \n",
      "1465 -0.037831  0.019357  0.109480  0.123099  0.009451  0.008404 -0.103642   \n",
      "873  -0.037831  0.019357  0.109480  0.123099  0.009451  0.008404 -0.103642   \n",
      "1437 -0.646163  0.738201 -0.903380 -0.882630 -0.247278  0.755489  0.758698   \n",
      "\n",
      "      COAL_RET  CARBON_RET    TARGET  \n",
      "742  -0.074767    0.798003  0.108953  \n",
      "1211  0.931562    0.822047 -0.063369  \n",
      "1468  1.140920    0.900434  0.861270  \n",
      "1408  1.140920    0.900434  2.575976  \n",
      "680  -0.064550   -0.032756  7.138604  \n",
      "...        ...         ...       ...  \n",
      "986   0.072168   -0.160792 -0.144320  \n",
      "1007  0.072168   -0.160792 -0.425474  \n",
      "1465 -0.633007    0.214805  0.147587  \n",
      "873  -0.633007    0.214805 -3.003988  \n",
      "1437  0.078518    0.192945  0.029623  \n",
      "\n",
      "[1494 rows x 36 columns]\n",
      "      FR_CONSUMPTION  DE_FR_EXCHANGE  FR_DE_EXCHANGE  FR_NET_EXPORT   \n",
      "742        -0.465067       -0.079296        0.079296       0.650577  \\\n",
      "1211        1.222131        0.331356       -0.331356       0.778627   \n",
      "1408       -0.667390       -1.102015        1.102015       0.256736   \n",
      "329        -0.834564       -1.051716        1.051716      -0.612133   \n",
      "512        -0.470371        0.144615       -0.144615      -1.811403   \n",
      "...              ...             ...             ...            ...   \n",
      "479        -0.709011        0.427976       -0.427976      -1.678101   \n",
      "1451        1.301061        1.565552       -1.565552      -0.072643   \n",
      "1007       -0.520506       -0.270515        0.270515      -0.789824   \n",
      "873         1.313254       -0.456126        0.456126      -0.069222   \n",
      "1437       -0.378158       -0.065993        0.065993       0.257829   \n",
      "\n",
      "      FR_NET_IMPORT    FR_GAS   FR_COAL  FR_HYDRO  FR_NUCLEAR  FR_SOLAR   \n",
      "742       -0.650577 -0.261565  0.095197  0.677089   -0.357168  1.185155  \\\n",
      "1211      -0.778627  1.991028 -0.786509  0.709616    1.381575  0.485975   \n",
      "1408      -0.256736  0.458302 -0.766904 -0.930172   -0.379230  1.032412   \n",
      "329        0.612133  0.069297 -0.718729 -0.383690   -1.579208  2.986527   \n",
      "512        1.811403  0.528273 -0.766063 -0.398178   -1.866010  3.425813   \n",
      "...             ...       ...       ...       ...         ...       ...   \n",
      "479        1.678101  0.179728 -0.758579 -0.380974   -1.903612  1.061313   \n",
      "1451       0.072643  0.919401  0.167770  0.920620    1.036172  0.340548   \n",
      "1007       0.789824  0.625656 -0.776785 -0.906285   -1.434474  1.589641   \n",
      "873        0.069222  1.549682 -0.291751  1.933776    0.258724 -0.365253   \n",
      "1437      -0.257829 -0.014042  0.376881  0.780039   -0.455935  0.896832   \n",
      "\n",
      "      FR_WINDPOW  FR_RESIDUAL_LOAD   FR_RAIN   FR_WIND   FR_TEMP   GAS_RET   \n",
      "742    -0.874690         -0.344706 -0.856204 -1.099226  0.583874 -1.071996  \\\n",
      "1211   -0.172140          1.214288 -0.497520 -1.465608  0.231602  1.480313   \n",
      "1408   -0.844350         -0.540642 -0.372156 -0.926064  0.641235  1.802550   \n",
      "329    -0.718643         -0.856321 -1.118297  0.488650 -0.951057  0.440121   \n",
      "512    -0.640389         -0.552878 -0.790071  0.021868  1.459745 -0.117977   \n",
      "...          ...               ...       ...       ...       ...       ...   \n",
      "479    -0.468104         -0.666261  2.661142  0.630211 -1.439105  0.291714   \n",
      "1451    1.033972          1.038585 -0.202629 -0.463636 -0.387127 -0.411589   \n",
      "1007   -0.266687         -0.589767 -0.237434  1.123953 -0.308232  0.017778   \n",
      "873     2.298943          0.868310  0.019357  0.123099  0.008404 -0.103642   \n",
      "1437   -0.951987         -0.223383  0.738201 -0.882630  0.755489  0.758698   \n",
      "\n",
      "      COAL_RET    TARGET  \n",
      "742  -0.074767  0.108953  \n",
      "1211  0.931562 -0.063369  \n",
      "1408  1.140920  2.575976  \n",
      "329  -0.064550  0.068905  \n",
      "512   0.550433  1.031308  \n",
      "...        ...       ...  \n",
      "479   0.568479  0.136028  \n",
      "1451  1.774694 -0.021766  \n",
      "1007  0.072168 -0.425474  \n",
      "873  -0.633007 -3.003988  \n",
      "1437  0.078518  0.029623  \n",
      "\n",
      "[851 rows x 18 columns]\n",
      "      DE_CONSUMPTION  DE_FR_EXCHANGE  FR_DE_EXCHANGE  DE_NET_EXPORT   \n",
      "1468       -0.068972       -1.102015        1.102015      -1.080403  \\\n",
      "680        -0.134670       -1.051716        1.051716      -1.881881   \n",
      "991        -0.297850        0.144615       -0.144615      -1.208286   \n",
      "1356        0.057599        0.002239       -0.002239      -0.676226   \n",
      "713        -0.282744        1.309253       -1.309253       0.248085   \n",
      "...              ...             ...             ...            ...   \n",
      "168        -1.182561       -1.201004        1.201004      -1.616737   \n",
      "1136        1.002463        0.651648       -0.651648       0.728817   \n",
      "577         0.046568        0.427976       -0.427976      -0.578391   \n",
      "986        -0.046100       -0.270515        0.270515      -0.137917   \n",
      "1465        1.407027       -0.456126        0.456126       0.333142   \n",
      "\n",
      "      DE_NET_IMPORT    DE_GAS   DE_COAL  DE_HYDRO  DE_NUCLEAR  DE_SOLAR   \n",
      "1468       1.080403  1.228079 -0.247704  1.785758    0.064726 -0.187892  \\\n",
      "680        1.881881  1.588542 -0.635452  1.994144   -2.002323  1.527633   \n",
      "991        1.208286  1.059828 -0.072071  1.275857   -1.875681  2.551925   \n",
      "1356       0.676226  0.386191  0.255380  0.281094   -1.887303  1.654025   \n",
      "713       -0.248085  0.955400 -0.234473  0.385716   -1.889094  1.267943   \n",
      "...             ...       ...       ...       ...         ...       ...   \n",
      "168        1.616737 -0.052984 -1.334403  0.109583   -1.312022  0.514515   \n",
      "1136      -0.728817  0.321619 -1.061328  0.086429   -0.572800  0.221847   \n",
      "577        0.578391  1.391369  0.069929  1.620765   -1.891245  2.135312   \n",
      "986        0.137917  0.231723 -0.491812 -0.441138   -1.885215  1.859448   \n",
      "1465      -0.333142  1.781433 -0.451947 -0.749000    0.142984 -0.994097   \n",
      "\n",
      "      DE_WINDPOW  DE_LIGNITE  DE_RESIDUAL_LOAD   DE_RAIN   DE_WIND   DE_TEMP   \n",
      "1468   -0.421844   -0.471366          0.398812 -0.344600 -0.623041 -0.148950  \\\n",
      "680    -1.142488   -0.169336          0.275487 -1.394561  0.244859 -1.710888   \n",
      "991    -0.892244   -0.279690         -0.031595 -1.374757  0.333817 -0.062187   \n",
      "1356   -0.876909    0.108801          0.142427 -0.531862  0.098940 -0.812164   \n",
      "713     0.274719   -0.245104         -0.508221  1.522720  1.690497 -0.441943   \n",
      "...          ...         ...               ...       ...       ...       ...   \n",
      "168     0.116425   -2.701475         -1.033438 -0.085663 -0.595651  0.039450   \n",
      "1136    1.799559   -1.963002         -1.238062 -0.037831  0.109480  0.009451   \n",
      "577    -0.572220    0.141485          0.151799 -1.224735  0.472212  1.065727   \n",
      "986    -0.245558   -0.159332         -0.623925 -0.039379  1.358211 -0.707839   \n",
      "1465    0.531472    0.414313          0.849643 -0.037831  0.109480  0.009451   \n",
      "\n",
      "       GAS_RET  COAL_RET    TARGET  \n",
      "1468  1.802550  1.140920  0.861270  \n",
      "680   0.440121 -0.064550  7.138604  \n",
      "991  -0.117977  0.550433  0.026374  \n",
      "1356 -0.379980  0.518459 -0.021227  \n",
      "713   1.557325  0.146634  0.042996  \n",
      "...        ...       ...       ...  \n",
      "168   0.184767  0.257420 -0.091774  \n",
      "1136  0.099209  1.750872 -1.324555  \n",
      "577   0.291714  0.568479  0.060380  \n",
      "986   0.017778  0.072168 -0.144320  \n",
      "1465 -0.103642 -0.633007  0.147587  \n",
      "\n",
      "[643 rows x 19 columns]\n",
      "<class 'pandas.core.frame.DataFrame'>\n",
      "Index: 851 entries, 742 to 1437\n",
      "Data columns (total 18 columns):\n",
      " #   Column            Non-Null Count  Dtype  \n",
      "---  ------            --------------  -----  \n",
      " 0   FR_CONSUMPTION    851 non-null    float64\n",
      " 1   DE_FR_EXCHANGE    851 non-null    float64\n",
      " 2   FR_DE_EXCHANGE    851 non-null    float64\n",
      " 3   FR_NET_EXPORT     851 non-null    float64\n",
      " 4   FR_NET_IMPORT     851 non-null    float64\n",
      " 5   FR_GAS            851 non-null    float64\n",
      " 6   FR_COAL           851 non-null    float64\n",
      " 7   FR_HYDRO          851 non-null    float64\n",
      " 8   FR_NUCLEAR        851 non-null    float64\n",
      " 9   FR_SOLAR          851 non-null    float64\n",
      " 10  FR_WINDPOW        851 non-null    float64\n",
      " 11  FR_RESIDUAL_LOAD  851 non-null    float64\n",
      " 12  FR_RAIN           851 non-null    float64\n",
      " 13  FR_WIND           851 non-null    float64\n",
      " 14  FR_TEMP           851 non-null    float64\n",
      " 15  GAS_RET           851 non-null    float64\n",
      " 16  COAL_RET          851 non-null    float64\n",
      " 17  TARGET            851 non-null    float64\n",
      "dtypes: float64(18)\n",
      "memory usage: 126.3 KB\n",
      "<class 'pandas.core.frame.DataFrame'>\n",
      "Index: 643 entries, 1468 to 1465\n",
      "Data columns (total 19 columns):\n",
      " #   Column            Non-Null Count  Dtype  \n",
      "---  ------            --------------  -----  \n",
      " 0   DE_CONSUMPTION    643 non-null    float64\n",
      " 1   DE_FR_EXCHANGE    643 non-null    float64\n",
      " 2   FR_DE_EXCHANGE    643 non-null    float64\n",
      " 3   DE_NET_EXPORT     643 non-null    float64\n",
      " 4   DE_NET_IMPORT     643 non-null    float64\n",
      " 5   DE_GAS            643 non-null    float64\n",
      " 6   DE_COAL           643 non-null    float64\n",
      " 7   DE_HYDRO          643 non-null    float64\n",
      " 8   DE_NUCLEAR        643 non-null    float64\n",
      " 9   DE_SOLAR          643 non-null    float64\n",
      " 10  DE_WINDPOW        643 non-null    float64\n",
      " 11  DE_LIGNITE        643 non-null    float64\n",
      " 12  DE_RESIDUAL_LOAD  643 non-null    float64\n",
      " 13  DE_RAIN           643 non-null    float64\n",
      " 14  DE_WIND           643 non-null    float64\n",
      " 15  DE_TEMP           643 non-null    float64\n",
      " 16  GAS_RET           643 non-null    float64\n",
      " 17  COAL_RET          643 non-null    float64\n",
      " 18  TARGET            643 non-null    float64\n",
      "dtypes: float64(19)\n",
      "memory usage: 100.5 KB\n",
      "Index(['DE_CONSUMPTION', 'DE_FR_EXCHANGE', 'FR_DE_EXCHANGE', 'DE_NET_EXPORT',\n",
      "       'DE_NET_IMPORT', 'DE_GAS', 'DE_COAL', 'DE_HYDRO', 'DE_NUCLEAR',\n",
      "       'DE_SOLAR', 'DE_WINDPOW', 'DE_LIGNITE', 'DE_RESIDUAL_LOAD', 'DE_RAIN',\n",
      "       'DE_WIND', 'DE_TEMP', 'GAS_RET', 'COAL_RET', 'TARGET'],\n",
      "      dtype='object')\n",
      "Index(['FR_CONSUMPTION', 'DE_FR_EXCHANGE', 'FR_DE_EXCHANGE', 'FR_NET_EXPORT',\n",
      "       'FR_NET_IMPORT', 'FR_GAS', 'FR_COAL', 'FR_HYDRO', 'FR_NUCLEAR',\n",
      "       'FR_SOLAR', 'FR_WINDPOW', 'FR_RESIDUAL_LOAD', 'FR_RAIN', 'FR_WIND',\n",
      "       'FR_TEMP', 'GAS_RET', 'COAL_RET', 'TARGET'],\n",
      "      dtype='object')\n"
     ]
    }
   ],
   "source": [
    "import sns as sns\n",
    "\n",
    "from Data_preparation import data_x\n",
    "for col in data_x.columns[data_x.isnull().any()]:\n",
    "    data_x[col].fillna(data_x[col].mean(), inplace=True)"
   ],
   "metadata": {
    "collapsed": false,
    "ExecuteTime": {
     "start_time": "2023-05-05T00:28:09.956235Z",
     "end_time": "2023-05-05T00:29:15.910359Z"
    }
   }
  },
  {
   "cell_type": "markdown",
   "source": [
    "Ensuite, nous fusionnons data_x et data_y pour comparer nos valeurs d'entrées avec nos valeurs de sorties en joignant sur l'ID. Puis, nous trions sur DAY_ID et COUNTRY pour une meilleure lisibilité."
   ],
   "metadata": {
    "collapsed": false
   }
  },
  {
   "cell_type": "code",
   "execution_count": 2,
   "outputs": [],
   "source": [
    "from Data_preparation import data_x, data_y, pd\n",
    "merged_X_Y = pd.merge(data_x, data_y, on='ID', how='inner')\n",
    "merged_X_Y = merged_X_Y.sort_values(by=['DAY_ID', 'COUNTRY'])\n"
   ],
   "metadata": {
    "collapsed": false,
    "ExecuteTime": {
     "start_time": "2023-05-05T00:29:15.921743Z",
     "end_time": "2023-05-05T00:29:15.922670Z"
    }
   }
  },
  {
   "cell_type": "markdown",
   "source": [
    "Puisque nous étudions la France et l'Allemagne nous créons deux datas : data_FR et data_DE et nous ajoutons leurs colonnes respectives sans oublier de mettre TARGET."
   ],
   "metadata": {
    "collapsed": false
   }
  },
  {
   "cell_type": "code",
   "execution_count": 3,
   "outputs": [],
   "source": [
    "data_FR = merged_X_Y.loc[merged_X_Y['COUNTRY'] == 'FR']\n",
    "data_DE = merged_X_Y.loc[merged_X_Y['COUNTRY'] == 'DE']\n",
    "data_FR = data_FR.filter(regex='FR|GAS_RET|COAL_RET|TARGET', axis=1)\n",
    "data_DE = data_DE.filter(regex='DE|GAS_RET|COAL_RET|TARGET', axis=1)"
   ],
   "metadata": {
    "collapsed": false,
    "ExecuteTime": {
     "start_time": "2023-05-05T00:29:15.936938Z",
     "end_time": "2023-05-05T00:29:15.943055Z"
    }
   }
  },
  {
   "cell_type": "markdown",
   "source": [
    "Les valeurs des différents attributs sont comparables car ce sont toutes des variations dans le temps.\n",
    "\n",
    "B) Analyse exploratoire des données\n",
    "\n",
    "Afin de faire un aperçu des données nous utilisons plusieurs fonctions :\n"
   ],
   "metadata": {
    "collapsed": false
   }
  },
  {
   "cell_type": "code",
   "execution_count": 4,
   "outputs": [
    {
     "name": "stdout",
     "output_type": "stream",
     "text": [
      "<class 'pandas.core.frame.DataFrame'>\n",
      "Index: 851 entries, 742 to 1437\n",
      "Data columns (total 18 columns):\n",
      " #   Column            Non-Null Count  Dtype  \n",
      "---  ------            --------------  -----  \n",
      " 0   FR_CONSUMPTION    851 non-null    float64\n",
      " 1   DE_FR_EXCHANGE    851 non-null    float64\n",
      " 2   FR_DE_EXCHANGE    851 non-null    float64\n",
      " 3   FR_NET_EXPORT     851 non-null    float64\n",
      " 4   FR_NET_IMPORT     851 non-null    float64\n",
      " 5   FR_GAS            851 non-null    float64\n",
      " 6   FR_COAL           851 non-null    float64\n",
      " 7   FR_HYDRO          851 non-null    float64\n",
      " 8   FR_NUCLEAR        851 non-null    float64\n",
      " 9   FR_SOLAR          851 non-null    float64\n",
      " 10  FR_WINDPOW        851 non-null    float64\n",
      " 11  FR_RESIDUAL_LOAD  851 non-null    float64\n",
      " 12  FR_RAIN           851 non-null    float64\n",
      " 13  FR_WIND           851 non-null    float64\n",
      " 14  FR_TEMP           851 non-null    float64\n",
      " 15  GAS_RET           851 non-null    float64\n",
      " 16  COAL_RET          851 non-null    float64\n",
      " 17  TARGET            851 non-null    float64\n",
      "dtypes: float64(18)\n",
      "memory usage: 126.3 KB\n"
     ]
    },
    {
     "data": {
      "text/plain": "       FR_CONSUMPTION  DE_FR_EXCHANGE  FR_DE_EXCHANGE  FR_NET_EXPORT   \ncount      851.000000      851.000000      851.000000     851.000000  \\\nmean         0.033707       -0.125025        0.125025      -0.033290   \nstd          0.943071        0.941634        0.941634       1.015605   \nmin         -1.462350       -2.856874       -2.634831      -2.825331   \n25%         -0.699925       -0.828152       -0.602534      -0.710545   \n50%         -0.365601       -0.145508        0.145508       0.041500   \n75%          0.739198        0.602534        0.828152       0.757525   \nmax          3.300640        2.634831        2.856874       1.951516   \n\n       FR_NET_IMPORT      FR_GAS     FR_COAL    FR_HYDRO  FR_NUCLEAR   \ncount     851.000000  851.000000  851.000000  851.000000  851.000000  \\\nmean        0.033290    0.397208   -0.390668    0.163946   -0.332241   \nstd         1.015605    0.925580    0.530913    1.054493    0.989031   \nmin        -1.951516   -1.317350   -0.794950   -1.758523   -2.595326   \n25%        -0.757525   -0.213153   -0.778677   -0.639208   -0.863334   \n50%        -0.041500    0.244309   -0.757349   -0.079222   -0.245237   \n75%         0.710545    1.127789   -0.145822    0.852186    0.248058   \nmax         2.825331    2.372570    1.905512    3.730478    1.854408   \n\n         FR_SOLAR  FR_WINDPOW  FR_RESIDUAL_LOAD     FR_RAIN     FR_WIND   \ncount  851.000000  851.000000        851.000000  851.000000  851.000000  \\\nmean     0.543592    0.362208         -0.087124    0.023466    0.031605   \nstd      1.060339    1.174623          0.922673    1.005274    0.998001   \nmin     -1.312588   -1.143277         -1.678936   -1.726420   -1.895319   \n25%     -0.343903   -0.550885         -0.768812   -0.484767   -0.697246   \n50%      0.483360   -0.009072         -0.409541   -0.193154   -0.264217   \n75%      1.268300    0.930943          0.492683    0.130232    0.491794   \nmax      3.648905    4.965793          2.918326    9.473201    4.965028   \n\n          FR_TEMP     GAS_RET    COAL_RET      TARGET  \ncount  851.000000  851.000000  851.000000  851.000000  \nmean     0.002808    0.039947    0.069333    0.046026  \nstd      0.979805    1.091868    1.043115    1.023512  \nmin     -5.787097   -5.349463   -5.706442   -6.519268  \n25%     -0.595664   -0.647117   -0.459531   -0.178023  \n50%      0.008404    0.000000    0.071501   -0.003619  \n75%      0.648230    0.655334    0.647094    0.174344  \nmax      2.817239    5.674778    3.746576    7.786578  ",
      "text/html": "<div>\n<style scoped>\n    .dataframe tbody tr th:only-of-type {\n        vertical-align: middle;\n    }\n\n    .dataframe tbody tr th {\n        vertical-align: top;\n    }\n\n    .dataframe thead th {\n        text-align: right;\n    }\n</style>\n<table border=\"1\" class=\"dataframe\">\n  <thead>\n    <tr style=\"text-align: right;\">\n      <th></th>\n      <th>FR_CONSUMPTION</th>\n      <th>DE_FR_EXCHANGE</th>\n      <th>FR_DE_EXCHANGE</th>\n      <th>FR_NET_EXPORT</th>\n      <th>FR_NET_IMPORT</th>\n      <th>FR_GAS</th>\n      <th>FR_COAL</th>\n      <th>FR_HYDRO</th>\n      <th>FR_NUCLEAR</th>\n      <th>FR_SOLAR</th>\n      <th>FR_WINDPOW</th>\n      <th>FR_RESIDUAL_LOAD</th>\n      <th>FR_RAIN</th>\n      <th>FR_WIND</th>\n      <th>FR_TEMP</th>\n      <th>GAS_RET</th>\n      <th>COAL_RET</th>\n      <th>TARGET</th>\n    </tr>\n  </thead>\n  <tbody>\n    <tr>\n      <th>count</th>\n      <td>851.000000</td>\n      <td>851.000000</td>\n      <td>851.000000</td>\n      <td>851.000000</td>\n      <td>851.000000</td>\n      <td>851.000000</td>\n      <td>851.000000</td>\n      <td>851.000000</td>\n      <td>851.000000</td>\n      <td>851.000000</td>\n      <td>851.000000</td>\n      <td>851.000000</td>\n      <td>851.000000</td>\n      <td>851.000000</td>\n      <td>851.000000</td>\n      <td>851.000000</td>\n      <td>851.000000</td>\n      <td>851.000000</td>\n    </tr>\n    <tr>\n      <th>mean</th>\n      <td>0.033707</td>\n      <td>-0.125025</td>\n      <td>0.125025</td>\n      <td>-0.033290</td>\n      <td>0.033290</td>\n      <td>0.397208</td>\n      <td>-0.390668</td>\n      <td>0.163946</td>\n      <td>-0.332241</td>\n      <td>0.543592</td>\n      <td>0.362208</td>\n      <td>-0.087124</td>\n      <td>0.023466</td>\n      <td>0.031605</td>\n      <td>0.002808</td>\n      <td>0.039947</td>\n      <td>0.069333</td>\n      <td>0.046026</td>\n    </tr>\n    <tr>\n      <th>std</th>\n      <td>0.943071</td>\n      <td>0.941634</td>\n      <td>0.941634</td>\n      <td>1.015605</td>\n      <td>1.015605</td>\n      <td>0.925580</td>\n      <td>0.530913</td>\n      <td>1.054493</td>\n      <td>0.989031</td>\n      <td>1.060339</td>\n      <td>1.174623</td>\n      <td>0.922673</td>\n      <td>1.005274</td>\n      <td>0.998001</td>\n      <td>0.979805</td>\n      <td>1.091868</td>\n      <td>1.043115</td>\n      <td>1.023512</td>\n    </tr>\n    <tr>\n      <th>min</th>\n      <td>-1.462350</td>\n      <td>-2.856874</td>\n      <td>-2.634831</td>\n      <td>-2.825331</td>\n      <td>-1.951516</td>\n      <td>-1.317350</td>\n      <td>-0.794950</td>\n      <td>-1.758523</td>\n      <td>-2.595326</td>\n      <td>-1.312588</td>\n      <td>-1.143277</td>\n      <td>-1.678936</td>\n      <td>-1.726420</td>\n      <td>-1.895319</td>\n      <td>-5.787097</td>\n      <td>-5.349463</td>\n      <td>-5.706442</td>\n      <td>-6.519268</td>\n    </tr>\n    <tr>\n      <th>25%</th>\n      <td>-0.699925</td>\n      <td>-0.828152</td>\n      <td>-0.602534</td>\n      <td>-0.710545</td>\n      <td>-0.757525</td>\n      <td>-0.213153</td>\n      <td>-0.778677</td>\n      <td>-0.639208</td>\n      <td>-0.863334</td>\n      <td>-0.343903</td>\n      <td>-0.550885</td>\n      <td>-0.768812</td>\n      <td>-0.484767</td>\n      <td>-0.697246</td>\n      <td>-0.595664</td>\n      <td>-0.647117</td>\n      <td>-0.459531</td>\n      <td>-0.178023</td>\n    </tr>\n    <tr>\n      <th>50%</th>\n      <td>-0.365601</td>\n      <td>-0.145508</td>\n      <td>0.145508</td>\n      <td>0.041500</td>\n      <td>-0.041500</td>\n      <td>0.244309</td>\n      <td>-0.757349</td>\n      <td>-0.079222</td>\n      <td>-0.245237</td>\n      <td>0.483360</td>\n      <td>-0.009072</td>\n      <td>-0.409541</td>\n      <td>-0.193154</td>\n      <td>-0.264217</td>\n      <td>0.008404</td>\n      <td>0.000000</td>\n      <td>0.071501</td>\n      <td>-0.003619</td>\n    </tr>\n    <tr>\n      <th>75%</th>\n      <td>0.739198</td>\n      <td>0.602534</td>\n      <td>0.828152</td>\n      <td>0.757525</td>\n      <td>0.710545</td>\n      <td>1.127789</td>\n      <td>-0.145822</td>\n      <td>0.852186</td>\n      <td>0.248058</td>\n      <td>1.268300</td>\n      <td>0.930943</td>\n      <td>0.492683</td>\n      <td>0.130232</td>\n      <td>0.491794</td>\n      <td>0.648230</td>\n      <td>0.655334</td>\n      <td>0.647094</td>\n      <td>0.174344</td>\n    </tr>\n    <tr>\n      <th>max</th>\n      <td>3.300640</td>\n      <td>2.634831</td>\n      <td>2.856874</td>\n      <td>1.951516</td>\n      <td>2.825331</td>\n      <td>2.372570</td>\n      <td>1.905512</td>\n      <td>3.730478</td>\n      <td>1.854408</td>\n      <td>3.648905</td>\n      <td>4.965793</td>\n      <td>2.918326</td>\n      <td>9.473201</td>\n      <td>4.965028</td>\n      <td>2.817239</td>\n      <td>5.674778</td>\n      <td>3.746576</td>\n      <td>7.786578</td>\n    </tr>\n  </tbody>\n</table>\n</div>"
     },
     "execution_count": 4,
     "metadata": {},
     "output_type": "execute_result"
    }
   ],
   "source": [
    "data_FR.info()\n",
    "data_FR.describe()"
   ],
   "metadata": {
    "collapsed": false,
    "ExecuteTime": {
     "start_time": "2023-05-05T00:29:15.953656Z",
     "end_time": "2023-05-05T00:29:16.060780Z"
    }
   }
  },
  {
   "cell_type": "markdown",
   "source": [
    "info() permet d'afficher le type de chaque colonnes et si elles sont nulles ou non\n",
    "describe() permet d'afficher la somme de toutes les lignes de chaque colonne avec \"count\", la moyenne de la colonne avec \"mean\", l'écart-type de la colonne avec \"std\", le minimum et le maximum de chaque colonne avec \"min\" et \"max\". De plus, nous avons les 25%, les 50% et les 75% premières valeurs de chaque colonne.\n"
   ],
   "metadata": {
    "collapsed": false
   }
  },
  {
   "cell_type": "markdown",
   "source": [
    "Pour éxaminer la relation entre les variables caractéristiques (chaque colonne) et la variable cible (TARGET) on utilise des techniques graphiques telles que des histogrammes, pour data_DE on n'oublie pas de prendre en compte la colonne en plus dans nos paramètres :"
   ],
   "metadata": {
    "collapsed": false
   }
  },
  {
   "cell_type": "code",
   "execution_count": 5,
   "outputs": [],
   "source": [
    "from matplotlib import pyplot as plt\n",
    "import seaborn as sns\n",
    "\n",
    "fig, axes = plt.subplots(nrows=6, ncols=3, figsize=(8, 35))\n",
    "fig.subplots_adjust(hspace=0.5, wspace=0.3)\n",
    "\n",
    "for i, ax in enumerate(axes.flatten()):\n",
    "    if i < len(data_FR.describe().columns):\n",
    "        j = data_FR.describe().columns[i]\n",
    "        sns.histplot(data_FR[j], ax=ax)\n",
    "        ax.axvline(data_FR[j].mean(), color='y', linestyle='-', label='Mean')\n",
    "        ax.axvline(data_FR[j].median(), color='g', linestyle='-', label='Median')\n",
    "        ax.set_xlabel(j)\n",
    "        ax.set_title(f'{j} Distribution')\n",
    "        ax.legend()\n",
    "\n",
    "plt.tight_layout()\n",
    "plt.show(block=True)"
   ],
   "metadata": {
    "collapsed": false,
    "ExecuteTime": {
     "start_time": "2023-05-05T00:29:16.091529Z",
     "end_time": "2023-05-05T00:29:23.971378Z"
    }
   }
  },
  {
   "cell_type": "markdown",
   "source": [
    "des diagrammes en boîte :"
   ],
   "metadata": {
    "collapsed": false
   }
  },
  {
   "cell_type": "code",
   "execution_count": 6,
   "outputs": [],
   "source": [
    "plt.figure(figsize=(8, 10))\n",
    "plt.subplots_adjust(hspace=0.5, wspace=0.3)\n",
    "\n",
    "for i, j in enumerate(data_FR.describe().columns):\n",
    "    plt.subplot(5, 4, i+1)\n",
    "    sns.boxplot(x=data_FR[j])\n",
    "    plt.title('{} Boxplot'.format(j))\n",
    "\n",
    "plt.tight_layout()\n",
    "plt.show()"
   ],
   "metadata": {
    "collapsed": false,
    "ExecuteTime": {
     "start_time": "2023-05-05T00:29:24.007205Z",
     "end_time": "2023-05-05T00:29:27.147242Z"
    }
   }
  },
  {
   "cell_type": "markdown",
   "source": [
    " et des graphiques de dispersion :"
   ],
   "metadata": {
    "collapsed": false
   }
  },
  {
   "cell_type": "code",
   "execution_count": null,
   "outputs": [],
   "source": [
    "fig, axes = plt.subplots(nrows=6, ncols=3, figsize=(12, 54))\n",
    "for i, j in enumerate(data_FR.describe().columns):\n",
    "    axes.flat[i].set_xlabel(j)\n",
    "    sns.scatterplot(x=data_FR[j], y=data_FR.TARGET, ax=axes.flat[i])\n",
    "    axes.flat[i].set_title(f'{j} Distribution')\n",
    "\n",
    "plt.tight_layout()\n",
    "plt.show(block=True)"
   ],
   "metadata": {
    "collapsed": false,
    "ExecuteTime": {
     "start_time": "2023-05-05T00:29:27.201063Z",
     "end_time": "2023-05-05T00:29:32.104319Z"
    },
    "pycharm": {
     "is_executing": true
    }
   }
  },
  {
   "cell_type": "raw",
   "source": [
    "Afin de voir si quelles variables sont reliées on crées des matrices de corrélation entre les variables :"
   ],
   "metadata": {
    "collapsed": false
   }
  },
  {
   "cell_type": "code",
   "execution_count": null,
   "outputs": [],
   "source": [
    "correlation_metrics_1 = data_FR.corr()\n",
    "\n",
    "fig1 = plt.figure(figsize=(40, 12))\n",
    "sns.heatmap(correlation_metrics_1, square=True, annot=True, annot_kws={\"size\": 8}, vmax=1, vmin=-1, cmap='coolwarm')\n",
    "plt.title('Correlation Between Variables', size=14)\n",
    "plt.show()"
   ],
   "metadata": {
    "collapsed": false,
    "pycharm": {
     "is_executing": true
    }
   }
  }
 ],
 "metadata": {
  "kernelspec": {
   "display_name": "Python 3",
   "language": "python",
   "name": "python3"
  },
  "language_info": {
   "codemirror_mode": {
    "name": "ipython",
    "version": 2
   },
   "file_extension": ".py",
   "mimetype": "text/x-python",
   "name": "python",
   "nbconvert_exporter": "python",
   "pygments_lexer": "ipython2",
   "version": "2.7.6"
  }
 },
 "nbformat": 4,
 "nbformat_minor": 0
}
