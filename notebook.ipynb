{
 "cells": [
  {
   "cell_type": "markdown",
   "source": [
    "Projet de Machine Learning : expliquer le prix de l'électricité\n",
    "\n",
    "Romain Foucher\n",
    "Matthieu Evort\n",
    "Julie Chen\n",
    "\n",
    "\n",
    "Introduction :\n",
    "\n",
    "Le machine learning est une technologie qui vise à apprendre aux machines à tirer des enseignements des données et à s'améliorer avec l'expérience, au lieu d'être explicitement programmées pour le faire.\n",
    "\n",
    "Ce projet consiste a expliquer le prix de l'électricité en France et en Allemagne selon une multitude de facteurs. On peut citer le climat, le réchauffement climatique, les  événements géopolitiques... De plus, chaque pays s’appuie sur un mix  énergétique qui lui est propre (nucléaire, solaire, hydrolique, gaz, charbon, etc).\n",
    "\n",
    " Pour cela, nous allons utiliser plusieurs méthodes afin de préparer nos données, de les analyser et de les modéliser grâce aux cours et aux TP que nous avons pu effectuer en cours mais ainsi qu'à la documantation d'internet.\n",
    "\n",
    "Sommaire :\n",
    "\n",
    "1) Préparation des données\n",
    "2) Analyse exploratoire des données\n",
    "3) Modélisation des données\n",
    "\n",
    "\n",
    "1) Préparation des données\n",
    "\n",
    "Afin de préparer nos données nous allons remplir les cases vides par la moyenne de la colonne. En effet, si nous supprimons les lignes ou les colonnes, nous perdrons des informations et nous réduisons la taille de l'échantillon. Cependant, nous n'allons pas supprimer ou remplacer les données \"0.0\" car elles sont utiles. En effet, il est possible que la variation du prix du charbon ou du gaz d'un pays ne change pas d'une journée à l'autre."
   ],
   "metadata": {
    "collapsed": false
   }
  },
  {
   "cell_type": "code",
   "execution_count": 16,
   "outputs": [],
   "source": [
    "from Data_preparation import data_x\n",
    "for col in data_x.columns[data_x.isnull().any()]:\n",
    "    data_x[col].fillna(data_x[col].mean(), inplace=True)"
   ],
   "metadata": {
    "collapsed": false,
    "ExecuteTime": {
     "start_time": "2023-05-02T22:34:57.231094Z",
     "end_time": "2023-05-02T22:34:57.258282Z"
    }
   }
  },
  {
   "cell_type": "markdown",
   "source": [
    "Ensuite, nous fusionnons data_x et data_y pour comparer nos valeurs d'entrées avec nos valeurs de sorties en joignant sur l'ID. Puis, nous trions sur DAY_ID et COUNTRY pour une meilleure lisibilité."
   ],
   "metadata": {
    "collapsed": false
   }
  },
  {
   "cell_type": "code",
   "execution_count": 17,
   "outputs": [],
   "source": [
    "from Data_preparation import data_x, data_y, pd\n",
    "merged_X_Y = pd.merge(data_x, data_y, on='ID', how='inner')\n",
    "merged_X_Y = merged_X_Y.sort_values(by=['DAY_ID', 'COUNTRY'])\n"
   ],
   "metadata": {
    "collapsed": false,
    "ExecuteTime": {
     "start_time": "2023-05-02T22:34:57.247801Z",
     "end_time": "2023-05-02T22:34:57.266112Z"
    }
   }
  }
 ],
 "metadata": {
  "kernelspec": {
   "display_name": "Python 3",
   "language": "python",
   "name": "python3"
  },
  "language_info": {
   "codemirror_mode": {
    "name": "ipython",
    "version": 2
   },
   "file_extension": ".py",
   "mimetype": "text/x-python",
   "name": "python",
   "nbconvert_exporter": "python",
   "pygments_lexer": "ipython2",
   "version": "2.7.6"
  }
 },
 "nbformat": 4,
 "nbformat_minor": 0
}
